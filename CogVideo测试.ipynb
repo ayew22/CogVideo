{
  "nbformat": 4,
  "nbformat_minor": 0,
  "metadata": {
    "colab": {
      "provenance": [],
      "authorship_tag": "ABX9TyOMoJbJ/SGCDXHkiMMc2A98",
      "include_colab_link": true
    },
    "kernelspec": {
      "name": "python3",
      "display_name": "Python 3"
    },
    "language_info": {
      "name": "python"
    },
    "accelerator": "GPU",
    "gpuClass": "standard"
  },
  "cells": [
    {
      "cell_type": "markdown",
      "metadata": {
        "id": "view-in-github",
        "colab_type": "text"
      },
      "source": [
        "<a href=\"https://colab.research.google.com/github/ayew22/CogVideo/blob/main/CogVideo%E6%B5%8B%E8%AF%95.ipynb\" target=\"_parent\"><img src=\"https://colab.research.google.com/assets/colab-badge.svg\" alt=\"Open In Colab\"/></a>"
      ]
    },
    {
      "cell_type": "code",
      "execution_count": null,
      "metadata": {
        "id": "7b51LrgXJEIC",
        "colab": {
          "base_uri": "https://localhost:8080/"
        },
        "outputId": "ad3061ab-05c2-481f-abe9-f2e2fb29b3fa"
      },
      "outputs": [
        {
          "output_type": "stream",
          "name": "stdout",
          "text": [
            "Cloning into 'CogVideo'...\n",
            "remote: Enumerating objects: 97, done.\u001b[K\n",
            "remote: Counting objects: 100% (97/97), done.\u001b[K\n",
            "remote: Compressing objects: 100% (68/68), done.\u001b[K\n",
            "remote: Total 97 (delta 32), reused 83 (delta 25), pack-reused 0\u001b[K\n",
            "Unpacking objects: 100% (97/97), 131.76 MiB | 10.16 MiB/s, done.\n",
            "\u001b[31mERROR: Could not open requirements file: [Errno 2] No such file or directory: 'requirements.txt'\u001b[0m\u001b[31m\n",
            "\u001b[0m"
          ]
        }
      ],
      "source": [
        "!git clone https://github.com/THUDM/CogVideo\n"
      ]
    },
    {
      "cell_type": "code",
      "source": [
        "%cd CogVideo\n",
        "!pip install -r requirements.txt"
      ],
      "metadata": {
        "colab": {
          "base_uri": "https://localhost:8080/"
        },
        "id": "GDkioZkHKGdJ",
        "outputId": "d3b8d510-c949-4bd5-f5ad-21b8e4d26b02"
      },
      "execution_count": null,
      "outputs": [
        {
          "output_type": "stream",
          "name": "stdout",
          "text": [
            "/content/CogVideo\n",
            "Looking in indexes: https://pypi.org/simple, https://us-python.pkg.dev/colab-wheels/public/simple/\n",
            "Collecting SwissArmyTransformer>=0.2.9\n",
            "  Downloading SwissArmyTransformer-0.2.12-py3-none-any.whl (2.4 MB)\n",
            "\u001b[2K     \u001b[90m━━━━━━━━━━━━━━━━━━━━━━━━━━━━━━━━━━━━━━━━\u001b[0m \u001b[32m2.4/2.4 MB\u001b[0m \u001b[31m49.3 MB/s\u001b[0m eta \u001b[36m0:00:00\u001b[0m\n",
            "\u001b[?25hCollecting icetk\n",
            "  Downloading icetk-0.0.4-py3-none-any.whl (15 kB)\n",
            "Collecting gifmaker\n",
            "  Downloading gifmaker-1.5-py3-none-any.whl (5.1 kB)\n",
            "Requirement already satisfied: torchvision in /usr/local/lib/python3.8/dist-packages (from -r requirements.txt (line 4)) (0.14.1+cu116)\n",
            "Collecting tensorboardX\n",
            "  Downloading tensorboardX-2.6-py2.py3-none-any.whl (114 kB)\n",
            "\u001b[2K     \u001b[90m━━━━━━━━━━━━━━━━━━━━━━━━━━━━━━━━━━━━━━\u001b[0m \u001b[32m114.5/114.5 KB\u001b[0m \u001b[31m15.7 MB/s\u001b[0m eta \u001b[36m0:00:00\u001b[0m\n",
            "\u001b[?25hCollecting datasets\n",
            "  Downloading datasets-2.10.0-py3-none-any.whl (469 kB)\n",
            "\u001b[2K     \u001b[90m━━━━━━━━━━━━━━━━━━━━━━━━━━━━━━━━━━━━━━\u001b[0m \u001b[32m469.0/469.0 KB\u001b[0m \u001b[31m48.8 MB/s\u001b[0m eta \u001b[36m0:00:00\u001b[0m\n",
            "\u001b[?25hCollecting deepspeed\n",
            "  Downloading deepspeed-0.8.1.tar.gz (759 kB)\n",
            "\u001b[2K     \u001b[90m━━━━━━━━━━━━━━━━━━━━━━━━━━━━━━━━━━━━━━\u001b[0m \u001b[32m759.6/759.6 KB\u001b[0m \u001b[31m56.7 MB/s\u001b[0m eta \u001b[36m0:00:00\u001b[0m\n",
            "\u001b[?25h  Preparing metadata (setup.py) ... \u001b[?25l\u001b[?25hdone\n",
            "Requirement already satisfied: torch in /usr/local/lib/python3.8/dist-packages (from SwissArmyTransformer>=0.2.9->-r requirements.txt (line 1)) (1.13.1+cu116)\n",
            "Collecting transformers\n",
            "  Downloading transformers-4.26.1-py3-none-any.whl (6.3 MB)\n",
            "\u001b[2K     \u001b[90m━━━━━━━━━━━━━━━━━━━━━━━━━━━━━━━━━━━━━━━━\u001b[0m \u001b[32m6.3/6.3 MB\u001b[0m \u001b[31m62.2 MB/s\u001b[0m eta \u001b[36m0:00:00\u001b[0m\n",
            "\u001b[?25hCollecting sentencepiece\n",
            "  Downloading sentencepiece-0.1.97-cp38-cp38-manylinux_2_17_x86_64.manylinux2014_x86_64.whl (1.3 MB)\n",
            "\u001b[2K     \u001b[90m━━━━━━━━━━━━━━━━━━━━━━━━━━━━━━━━━━━━━━━━\u001b[0m \u001b[32m1.3/1.3 MB\u001b[0m \u001b[31m78.3 MB/s\u001b[0m eta \u001b[36m0:00:00\u001b[0m\n",
            "\u001b[?25hRequirement already satisfied: filelock in /usr/local/lib/python3.8/dist-packages (from icetk->-r requirements.txt (line 2)) (3.9.0)\n",
            "Requirement already satisfied: requests in /usr/local/lib/python3.8/dist-packages (from icetk->-r requirements.txt (line 2)) (2.25.1)\n",
            "Requirement already satisfied: tqdm in /usr/local/lib/python3.8/dist-packages (from icetk->-r requirements.txt (line 2)) (4.64.1)\n",
            "Requirement already satisfied: imageio in /usr/local/lib/python3.8/dist-packages (from gifmaker->-r requirements.txt (line 3)) (2.9.0)\n",
            "Requirement already satisfied: scipy in /usr/local/lib/python3.8/dist-packages (from gifmaker->-r requirements.txt (line 3)) (1.7.3)\n",
            "Requirement already satisfied: pillow!=8.3.*,>=5.3.0 in /usr/local/lib/python3.8/dist-packages (from torchvision->-r requirements.txt (line 4)) (7.1.2)\n",
            "Requirement already satisfied: typing-extensions in /usr/local/lib/python3.8/dist-packages (from torchvision->-r requirements.txt (line 4)) (4.5.0)\n",
            "Requirement already satisfied: numpy in /usr/local/lib/python3.8/dist-packages (from torchvision->-r requirements.txt (line 4)) (1.22.4)\n",
            "Collecting responses<0.19\n",
            "  Downloading responses-0.18.0-py3-none-any.whl (38 kB)\n",
            "Collecting multiprocess\n",
            "  Downloading multiprocess-0.70.14-py38-none-any.whl (132 kB)\n",
            "\u001b[2K     \u001b[90m━━━━━━━━━━━━━━━━━━━━━━━━━━━━━━━━━━━━━━\u001b[0m \u001b[32m132.0/132.0 KB\u001b[0m \u001b[31m18.2 MB/s\u001b[0m eta \u001b[36m0:00:00\u001b[0m\n",
            "\u001b[?25hCollecting xxhash\n",
            "  Downloading xxhash-3.2.0-cp38-cp38-manylinux_2_17_x86_64.manylinux2014_x86_64.whl (213 kB)\n",
            "\u001b[2K     \u001b[90m━━━━━━━━━━━━━━━━━━━━━━━━━━━━━━━━━━━━━━\u001b[0m \u001b[32m213.0/213.0 KB\u001b[0m \u001b[31m26.3 MB/s\u001b[0m eta \u001b[36m0:00:00\u001b[0m\n",
            "\u001b[?25hRequirement already satisfied: pandas in /usr/local/lib/python3.8/dist-packages (from datasets->SwissArmyTransformer>=0.2.9->-r requirements.txt (line 1)) (1.3.5)\n",
            "Requirement already satisfied: dill<0.3.7,>=0.3.0 in /usr/local/lib/python3.8/dist-packages (from datasets->SwissArmyTransformer>=0.2.9->-r requirements.txt (line 1)) (0.3.6)\n",
            "Requirement already satisfied: pyarrow>=6.0.0 in /usr/local/lib/python3.8/dist-packages (from datasets->SwissArmyTransformer>=0.2.9->-r requirements.txt (line 1)) (9.0.0)\n",
            "Requirement already satisfied: fsspec[http]>=2021.11.1 in /usr/local/lib/python3.8/dist-packages (from datasets->SwissArmyTransformer>=0.2.9->-r requirements.txt (line 1)) (2023.1.0)\n",
            "Requirement already satisfied: aiohttp in /usr/local/lib/python3.8/dist-packages (from datasets->SwissArmyTransformer>=0.2.9->-r requirements.txt (line 1)) (3.8.4)\n",
            "Requirement already satisfied: packaging in /usr/local/lib/python3.8/dist-packages (from datasets->SwissArmyTransformer>=0.2.9->-r requirements.txt (line 1)) (23.0)\n",
            "Requirement already satisfied: pyyaml>=5.1 in /usr/local/lib/python3.8/dist-packages (from datasets->SwissArmyTransformer>=0.2.9->-r requirements.txt (line 1)) (6.0)\n",
            "Collecting huggingface-hub<1.0.0,>=0.2.0\n",
            "  Downloading huggingface_hub-0.12.1-py3-none-any.whl (190 kB)\n",
            "\u001b[2K     \u001b[90m━━━━━━━━━━━━━━━━━━━━━━━━━━━━━━━━━━━━━━\u001b[0m \u001b[32m190.3/190.3 KB\u001b[0m \u001b[31m24.4 MB/s\u001b[0m eta \u001b[36m0:00:00\u001b[0m\n",
            "\u001b[?25hRequirement already satisfied: chardet<5,>=3.0.2 in /usr/local/lib/python3.8/dist-packages (from requests->icetk->-r requirements.txt (line 2)) (4.0.0)\n",
            "Requirement already satisfied: certifi>=2017.4.17 in /usr/local/lib/python3.8/dist-packages (from requests->icetk->-r requirements.txt (line 2)) (2022.12.7)\n",
            "Requirement already satisfied: urllib3<1.27,>=1.21.1 in /usr/local/lib/python3.8/dist-packages (from requests->icetk->-r requirements.txt (line 2)) (1.24.3)\n",
            "Requirement already satisfied: idna<3,>=2.5 in /usr/local/lib/python3.8/dist-packages (from requests->icetk->-r requirements.txt (line 2)) (2.10)\n",
            "Collecting hjson\n",
            "  Downloading hjson-3.1.0-py3-none-any.whl (54 kB)\n",
            "\u001b[2K     \u001b[90m━━━━━━━━━━━━━━━━━━━━━━━━━━━━━━━━━━━━━━━━\u001b[0m \u001b[32m54.0/54.0 KB\u001b[0m \u001b[31m7.0 MB/s\u001b[0m eta \u001b[36m0:00:00\u001b[0m\n",
            "\u001b[?25hCollecting ninja\n",
            "  Downloading ninja-1.11.1-py2.py3-none-manylinux_2_12_x86_64.manylinux2010_x86_64.whl (145 kB)\n",
            "\u001b[2K     \u001b[90m━━━━━━━━━━━━━━━━━━━━━━━━━━━━━━━━━━━━━━\u001b[0m \u001b[32m146.0/146.0 KB\u001b[0m \u001b[31m19.0 MB/s\u001b[0m eta \u001b[36m0:00:00\u001b[0m\n",
            "\u001b[?25hRequirement already satisfied: psutil in /usr/local/lib/python3.8/dist-packages (from deepspeed->SwissArmyTransformer>=0.2.9->-r requirements.txt (line 1)) (5.4.8)\n",
            "Collecting py-cpuinfo\n",
            "  Downloading py_cpuinfo-9.0.0-py3-none-any.whl (22 kB)\n",
            "Requirement already satisfied: pydantic in /usr/local/lib/python3.8/dist-packages (from deepspeed->SwissArmyTransformer>=0.2.9->-r requirements.txt (line 1)) (1.10.5)\n",
            "Requirement already satisfied: protobuf<4,>=3.8.0 in /usr/local/lib/python3.8/dist-packages (from tensorboardX->SwissArmyTransformer>=0.2.9->-r requirements.txt (line 1)) (3.19.6)\n",
            "Collecting tokenizers!=0.11.3,<0.14,>=0.11.1\n",
            "  Downloading tokenizers-0.13.2-cp38-cp38-manylinux_2_17_x86_64.manylinux2014_x86_64.whl (7.6 MB)\n",
            "\u001b[2K     \u001b[90m━━━━━━━━━━━━━━━━━━━━━━━━━━━━━━━━━━━━━━━━\u001b[0m \u001b[32m7.6/7.6 MB\u001b[0m \u001b[31m108.4 MB/s\u001b[0m eta \u001b[36m0:00:00\u001b[0m\n",
            "\u001b[?25hRequirement already satisfied: regex!=2019.12.17 in /usr/local/lib/python3.8/dist-packages (from transformers->SwissArmyTransformer>=0.2.9->-r requirements.txt (line 1)) (2022.6.2)\n",
            "Requirement already satisfied: multidict<7.0,>=4.5 in /usr/local/lib/python3.8/dist-packages (from aiohttp->datasets->SwissArmyTransformer>=0.2.9->-r requirements.txt (line 1)) (6.0.4)\n",
            "Requirement already satisfied: frozenlist>=1.1.1 in /usr/local/lib/python3.8/dist-packages (from aiohttp->datasets->SwissArmyTransformer>=0.2.9->-r requirements.txt (line 1)) (1.3.3)\n",
            "Requirement already satisfied: aiosignal>=1.1.2 in /usr/local/lib/python3.8/dist-packages (from aiohttp->datasets->SwissArmyTransformer>=0.2.9->-r requirements.txt (line 1)) (1.3.1)\n",
            "Requirement already satisfied: async-timeout<5.0,>=4.0.0a3 in /usr/local/lib/python3.8/dist-packages (from aiohttp->datasets->SwissArmyTransformer>=0.2.9->-r requirements.txt (line 1)) (4.0.2)\n",
            "Requirement already satisfied: charset-normalizer<4.0,>=2.0 in /usr/local/lib/python3.8/dist-packages (from aiohttp->datasets->SwissArmyTransformer>=0.2.9->-r requirements.txt (line 1)) (3.0.1)\n",
            "Requirement already satisfied: attrs>=17.3.0 in /usr/local/lib/python3.8/dist-packages (from aiohttp->datasets->SwissArmyTransformer>=0.2.9->-r requirements.txt (line 1)) (22.2.0)\n",
            "Requirement already satisfied: yarl<2.0,>=1.0 in /usr/local/lib/python3.8/dist-packages (from aiohttp->datasets->SwissArmyTransformer>=0.2.9->-r requirements.txt (line 1)) (1.8.2)\n",
            "Collecting urllib3<1.27,>=1.21.1\n",
            "  Downloading urllib3-1.26.14-py2.py3-none-any.whl (140 kB)\n",
            "\u001b[2K     \u001b[90m━━━━━━━━━━━━━━━━━━━━━━━━━━━━━━━━━━━━━━\u001b[0m \u001b[32m140.6/140.6 KB\u001b[0m \u001b[31m21.1 MB/s\u001b[0m eta \u001b[36m0:00:00\u001b[0m\n",
            "\u001b[?25hRequirement already satisfied: pytz>=2017.3 in /usr/local/lib/python3.8/dist-packages (from pandas->datasets->SwissArmyTransformer>=0.2.9->-r requirements.txt (line 1)) (2022.7.1)\n",
            "Requirement already satisfied: python-dateutil>=2.7.3 in /usr/local/lib/python3.8/dist-packages (from pandas->datasets->SwissArmyTransformer>=0.2.9->-r requirements.txt (line 1)) (2.8.2)\n",
            "Requirement already satisfied: six>=1.5 in /usr/local/lib/python3.8/dist-packages (from python-dateutil>=2.7.3->pandas->datasets->SwissArmyTransformer>=0.2.9->-r requirements.txt (line 1)) (1.15.0)\n",
            "Building wheels for collected packages: deepspeed\n",
            "  Building wheel for deepspeed (setup.py) ... \u001b[?25l\u001b[?25hdone\n",
            "  Created wheel for deepspeed: filename=deepspeed-0.8.1-py3-none-any.whl size=765904 sha256=c257ab68d030ca5d8a52bc0ad2d8791c262e8c9aa9bbf62eef3d2bc18b9322cc\n",
            "  Stored in directory: /root/.cache/pip/wheels/20/0f/03/6f0e0f3402f0aee5f4bbe053dae209973760f4cf0d92a7da91\n",
            "Successfully built deepspeed\n",
            "Installing collected packages: tokenizers, sentencepiece, py-cpuinfo, ninja, hjson, xxhash, urllib3, tensorboardX, multiprocess, gifmaker, deepspeed, responses, huggingface-hub, transformers, icetk, datasets, SwissArmyTransformer\n",
            "  Attempting uninstall: urllib3\n",
            "    Found existing installation: urllib3 1.24.3\n",
            "    Uninstalling urllib3-1.24.3:\n",
            "      Successfully uninstalled urllib3-1.24.3\n",
            "Successfully installed SwissArmyTransformer-0.2.12 datasets-2.10.0 deepspeed-0.8.1 gifmaker-1.5 hjson-3.1.0 huggingface-hub-0.12.1 icetk-0.0.4 multiprocess-0.70.14 ninja-1.11.1 py-cpuinfo-9.0.0 responses-0.18.0 sentencepiece-0.1.97 tensorboardX-2.6 tokenizers-0.13.2 transformers-4.26.1 urllib3-1.26.14 xxhash-3.2.0\n"
          ]
        },
        {
          "output_type": "display_data",
          "data": {
            "application/vnd.colab-display-data+json": {
              "pip_warning": {
                "packages": [
                  "urllib3"
                ]
              }
            }
          },
          "metadata": {}
        }
      ]
    },
    {
      "cell_type": "code",
      "source": [
        "!pip install git+https://github.com/Sleepychord/Image-Local-Attention"
      ],
      "metadata": {
        "id": "70QgBTk9Lh9n",
        "colab": {
          "base_uri": "https://localhost:8080/"
        },
        "outputId": "aa992e7b-d81a-4623-98a6-6c8ebd90dd23"
      },
      "execution_count": 7,
      "outputs": [
        {
          "output_type": "stream",
          "name": "stdout",
          "text": [
            "Looking in indexes: https://pypi.org/simple, https://us-python.pkg.dev/colab-wheels/public/simple/\n",
            "Collecting git+https://github.com/Sleepychord/Image-Local-Attention\n",
            "  Cloning https://github.com/Sleepychord/Image-Local-Attention to /tmp/pip-req-build-bvepigil\n",
            "  Running command git clone --filter=blob:none --quiet https://github.com/Sleepychord/Image-Local-Attention /tmp/pip-req-build-bvepigil\n",
            "  Resolved https://github.com/Sleepychord/Image-Local-Attention to commit 43fee310cb1c6f64fb0ed77404ba3b01fa586026\n",
            "  Preparing metadata (setup.py) ... \u001b[?25l\u001b[?25hdone\n",
            "Building wheels for collected packages: localAttention\n",
            "  Building wheel for localAttention (setup.py) ... \u001b[?25l\u001b[?25hdone\n",
            "  Created wheel for localAttention: filename=localAttention-0.0.0-cp38-cp38-linux_x86_64.whl size=2810460 sha256=fd69f918ef9c27ec22af10de49625e4dc4ca49eda1439689cbf792c17c53f806\n",
            "  Stored in directory: /tmp/pip-ephem-wheel-cache-ioi_fwig/wheels/fd/e3/8e/2d36000ef1ab5e6926f57fed23d4c37c638f291520fe2f19f7\n",
            "Successfully built localAttention\n",
            "Installing collected packages: localAttention\n",
            "Successfully installed localAttention-0.0.0\n"
          ]
        }
      ]
    },
    {
      "cell_type": "code",
      "source": [
        "!chmod 755 ./scripts/*"
      ],
      "metadata": {
        "id": "OdW5diPjNZwO"
      },
      "execution_count": 19,
      "outputs": []
    },
    {
      "cell_type": "code",
      "source": [
        "!ls -l ./scripts"
      ],
      "metadata": {
        "colab": {
          "base_uri": "https://localhost:8080/"
        },
        "id": "_YM-0lVgOEZu",
        "outputId": "9a92e94b-ec01-410c-94c6-d32e80925a7a"
      },
      "execution_count": 20,
      "outputs": [
        {
          "output_type": "stream",
          "name": "stdout",
          "text": [
            "total 16\n",
            "-rwxr-xr-x 1 root root 2936 Feb 24 02:01 ds_brain_pretrain_cogvideo_stage1.sh\n",
            "-rwxr-xr-x 1 root root 2936 Feb 24 02:01 ds_brain_pretrain_cogvideo_stage2.sh\n",
            "-rwxr-xr-x 1 root root  994 Feb 24 02:01 ds_config_zero.json\n",
            "-rwxr-xr-x 1 root root  910 Feb 24 02:16 inference_cogvideo_pipeline.sh\n"
          ]
        }
      ]
    },
    {
      "cell_type": "code",
      "source": [
        "!sh /content/CogVideo/scripts/inference_cogvideo_pipeline.sh"
      ],
      "metadata": {
        "colab": {
          "base_uri": "https://localhost:8080/"
        },
        "id": "sFXFUlzFOHvu",
        "outputId": "a85454f7-0678-44aa-e2cc-9407ee6b436b"
      },
      "execution_count": null,
      "outputs": [
        {
          "output_type": "stream",
          "name": "stdout",
          "text": [
            "Downloading tokenizer models https://cloud.tsinghua.edu.cn/f/2c73ea6d3e7f4aed82ec/?dl=1 into /root/.icetk_models/ice_text.model ...\n",
            "100% 2.70M/2.70M [00:01<00:00, 1.37Mit/s]\n",
            "Please install apex to use fused_layer_norm, fall back to torch.nn.LayerNorm\n",
            "Please install apex to use FusedScaleMaskSoftmax, otherwise the inference efficiency will be greatly reduced\n",
            "WARNING: No training data specified\n",
            "using world size: 1 and model-parallel size: 1 \n",
            "INFO:torch.distributed.distributed_c10d:Added key: store_based_barrier_key:1 to store for rank: 0\n",
            "INFO:torch.distributed.distributed_c10d:Rank 0: Completed store-based barrier for key:store_based_barrier_key:1 with 1 nodes.\n",
            "> initializing model parallel with size 1\n",
            "INFO:torch.distributed.distributed_c10d:Added key: store_based_barrier_key:2 to store for rank: 0\n",
            "INFO:torch.distributed.distributed_c10d:Rank 0: Completed store-based barrier for key:store_based_barrier_key:2 with 1 nodes.\n",
            "INFO:torch.distributed.distributed_c10d:Added key: store_based_barrier_key:3 to store for rank: 0\n",
            "INFO:torch.distributed.distributed_c10d:Rank 0: Completed store-based barrier for key:store_based_barrier_key:3 with 1 nodes.\n",
            "DEBUG:filelock:Attempting to acquire lock 140213016061264 on /content/sharefs/cogview-new/cogvideo-stage1.zip.lock\n",
            "DEBUG:filelock:Lock 140213016061264 acquired on /content/sharefs/cogview-new/cogvideo-stage1.zip.lock\n",
            "Downloading models https://lfs.aminer.cn/misc/cogvideo/cogvideo-stage1.zip into /content/sharefs/cogview-new/cogvideo-stage1.zip ...\n",
            "DEBUG:urllib3.connectionpool:Starting new HTTPS connection (1): lfs.aminer.cn:443\n",
            "DEBUG:urllib3.connectionpool:https://lfs.aminer.cn:443 \"GET /misc/cogvideo/cogvideo-stage1.zip HTTP/1.1\" 200 14225059486\n",
            " 35% 4.92G/14.2G [08:57<16:08, 9.61Mit/s]"
          ]
        }
      ]
    }
  ]
}